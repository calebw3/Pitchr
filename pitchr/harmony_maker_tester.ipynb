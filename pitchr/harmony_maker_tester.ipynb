{
 "cells": [
  {
   "cell_type": "code",
   "execution_count": 1,
   "metadata": {},
   "outputs": [],
   "source": [
    "from pitchr import data\n",
    "from pitchr import xml_parser\n",
    "from pitchr import harmony_maker\n",
    "import pandas as pd\n",
    "import numpy as np\n",
    "import os\n",
    "import tensorflow as tf\n",
    "from tensorflow import keras\n",
    "from tensorflow.keras.models import Sequential\n",
    "from tensorflow.keras.layers import Dense, LSTM, Bidirectional, Dropout\n",
    "from sklearn.model_selection import train_test_split\n",
    "from sklearn import preprocessing\n",
    "DATA_PATH = \"../dataset/_xml_scores\"\n",
    "score_files = os.listdir(DATA_PATH)"
   ]
  },
  {
   "cell_type": "code",
   "execution_count": 2,
   "metadata": {
    "scrolled": false
   },
   "outputs": [
    {
     "name": "stdout",
     "output_type": "stream",
     "text": [
      "210 210\n"
     ]
    }
   ],
   "source": [
    "# gets list of all melody and harmony dfs\n",
    "all_melody_dfs, all_harmony_dfs = xml_parser.get_all_data()\n",
    "print(len(all_melody_dfs), len(all_harmony_dfs))"
   ]
  },
  {
   "cell_type": "code",
   "execution_count": 3,
   "metadata": {
    "scrolled": false
   },
   "outputs": [],
   "source": [
    "# Converting dfs to numpy arrays\n",
    "all_melody_np = []\n",
    "all_harmony_np = []\n",
    "for df in all_melody_dfs:\n",
    "    df = df[['Pitch Number', 'Pitch Interval']]\n",
    "    temp_np = df.to_numpy()\n",
    "    all_melody_np.append(temp_np)\n",
    "for df in all_harmony_dfs:\n",
    "    df = df[['Pitch Number', 'Pitch Interval']]\n",
    "    temp_np = df.to_numpy()\n",
    "    all_harmony_np.append(temp_np)\n",
    "\n",
    "\n",
    "# normalize harmony sizes\n",
    "all_harmony_np = xml_parser.prepare_harmony(all_harmony_np)"
   ]
  },
  {
   "cell_type": "code",
   "execution_count": 4,
   "metadata": {},
   "outputs": [],
   "source": [
    "# convert dataframes to numpy arrays\n",
    "all_melody_np = np.asarray(all_melody_np)\n",
    "all_harmony_np = np.asarray(all_harmony_np)"
   ]
  },
  {
   "cell_type": "code",
   "execution_count": 6,
   "metadata": {
    "scrolled": false
   },
   "outputs": [
    {
     "name": "stdout",
     "output_type": "stream",
     "text": [
      "(210, 50, 2)\n",
      "(210, 50, 2)\n"
     ]
    }
   ],
   "source": [
    "# convert rest notes to -50 and ints to floats\n",
    "for array in all_melody_np:\n",
    "    for note in array:\n",
    "        for i in range(0, 2):\n",
    "            if type(note[i]) == str:\n",
    "                note[i] = float(-50)\n",
    "                np.float32\n",
    "            elif type(note[i]) == int:\n",
    "                note[i] = float(note[i])\n",
    "for array in all_harmony_np:\n",
    "    for note in array:\n",
    "        for i in range(0, 2):\n",
    "            if type(note[i]) == str:\n",
    "                note[i] = float(-50)\n",
    "            elif type(note[i]) == int:\n",
    "                note[i] = float(note[i])\n",
    "\n",
    "\n",
    "print(all_melody_np.shape)\n",
    "print(all_harmony_np.shape)"
   ]
  },
  {
   "cell_type": "code",
   "execution_count": 7,
   "metadata": {
    "scrolled": true
   },
   "outputs": [],
   "source": [
    "X = tf.convert_to_tensor(all_melody_np, dtype=tf.float32)\n",
    "Y = tf.convert_to_tensor(all_harmony_np, dtype=tf.float32)"
   ]
  },
  {
   "cell_type": "code",
   "execution_count": 8,
   "metadata": {},
   "outputs": [
    {
     "name": "stdout",
     "output_type": "stream",
     "text": [
      "(151, 50, 2) (151, 50, 2)\n"
     ]
    }
   ],
   "source": [
    "x_train, x_test, y_train, y_test = train_test_split(all_melody_np, all_harmony_np, test_size=0.2)\n",
    "x_train, x_validation, y_train, y_validation = train_test_split(x_train, y_train, test_size=0.1)\n",
    "print(x_train.shape, y_train.shape)\n",
    "x_train = tf.convert_to_tensor(x_train, dtype=tf.float32)\n",
    "y_train = tf.convert_to_tensor(y_train, dtype=tf.float32)\n",
    "x_test = tf.convert_to_tensor(x_test, dtype=tf.float32)\n",
    "y_test = tf.convert_to_tensor(y_test, dtype=tf.float32)\n",
    "x_validation = tf.convert_to_tensor(x_validation, dtype=tf.float32)\n",
    "y_validation = tf.convert_to_tensor(y_validation, dtype=tf.float32)\n",
    "normalized_x_train = x_train/50\n",
    "normalized_y_train = y_train/50\n",
    "normalized_x_test = x_test/50\n",
    "normalized_y_test = y_test/50\n",
    "normalized_x_validation = x_validation/50\n",
    "normalized_y_validation = y_validation/50"
   ]
  },
  {
   "cell_type": "code",
   "execution_count": 9,
   "metadata": {},
   "outputs": [
    {
     "name": "stdout",
     "output_type": "stream",
     "text": [
      "(151, 50, 2)\n",
      "(151, 50, 2)\n"
     ]
    }
   ],
   "source": [
    "print(normalized_x_train.shape)\n",
    "print(normalized_y_train.shape)"
   ]
  },
  {
   "cell_type": "code",
   "execution_count": 49,
   "metadata": {
    "scrolled": false
   },
   "outputs": [
    {
     "name": "stdout",
     "output_type": "stream",
     "text": [
      "Epoch 1/5\n",
      "76/76 [==============================] - 4s 55ms/step - loss: 0.2969 - accuracy: 0.5726 - val_loss: 0.1705 - val_accuracy: 0.6459\n",
      "Epoch 2/5\n",
      "76/76 [==============================] - 4s 52ms/step - loss: 0.1335 - accuracy: 0.6432 - val_loss: 0.1146 - val_accuracy: 0.7835\n",
      "Epoch 3/5\n",
      "76/76 [==============================] - 4s 54ms/step - loss: 0.1393 - accuracy: 0.6360 - val_loss: 0.1271 - val_accuracy: 0.7835\n",
      "Epoch 4/5\n",
      "76/76 [==============================] - 4s 57ms/step - loss: 0.1333 - accuracy: 0.6477 - val_loss: 0.1170 - val_accuracy: 0.7835\n",
      "Epoch 5/5\n",
      "76/76 [==============================] - 5s 65ms/step - loss: 0.1314 - accuracy: 0.6483 - val_loss: 0.1159 - val_accuracy: 0.7835\n",
      "Model: \"sequential_16\"\n",
      "_________________________________________________________________\n",
      "Layer (type)                 Output Shape              Param #   \n",
      "=================================================================\n",
      "lstm_26 (LSTM)               (None, 50, 300)           363600    \n",
      "_________________________________________________________________\n",
      "dropout_28 (Dropout)         (None, 50, 300)           0         \n",
      "_________________________________________________________________\n",
      "dense_28 (Dense)             (None, 50, 300)           90300     \n",
      "_________________________________________________________________\n",
      "dense_29 (Dense)             (None, 50, 200)           60200     \n",
      "_________________________________________________________________\n",
      "dense_30 (Dense)             (None, 50, 100)           20100     \n",
      "_________________________________________________________________\n",
      "dense_31 (Dense)             (None, 50, 2)             202       \n",
      "=================================================================\n",
      "Total params: 534,402\n",
      "Trainable params: 534,402\n",
      "Non-trainable params: 0\n",
      "_________________________________________________________________\n",
      "None\n"
     ]
    }
   ],
   "source": [
    "optimizer = keras.optimizers.Adam(learning_rate=0.01)\n",
    "\n",
    "model = Sequential()\n",
    "\n",
    "# 2 LSTM layers\n",
    "#model.add(LSTM(units=300, batch_input_shape=(1, 50, 2), return_sequences=True))\n",
    "model.add(LSTM(300, input_shape=(50, 2), return_sequences=True))\n",
    "model.add(Dropout(0.2))\n",
    "\n",
    "# Dense layers\n",
    "model.add(Dense(300, activation=\"tanh\"))\n",
    "model.add(Dense(200, activation=\"tanh\"))\n",
    "model.add(Dense(100, activation=\"tanh\"))\n",
    "\n",
    "# Output Layer\n",
    "model.add(Dense(2))\n",
    "model.compile(optimizer=optimizer, metrics=['accuracy'], loss='mse')\n",
    "trained_model = model.fit(normalized_x_train, normalized_y_train, epochs=100, \n",
    "                          validation_data=(normalized_x_validation, normalized_y_validation), batch_size = 2)\n",
    "print(model.summary())"
   ]
  },
  {
   "cell_type": "code",
   "execution_count": 50,
   "metadata": {
    "scrolled": false
   },
   "outputs": [
    {
     "name": "stdout",
     "output_type": "stream",
     "text": [
      "(50, 2)\n",
      "test_input.shape: (1, 50, 2)\n",
      "1/1 [==============================] - 0s 996us/step\n",
      "(1, 50, 2)\n",
      "[[-20.7715      -1.8181287 ]\n",
      " [-31.755537    -4.428517  ]\n",
      " [-18.73362     17.042746  ]\n",
      " [-13.471755     5.102666  ]\n",
      " [-24.46158     -6.0613036 ]\n",
      " [ -0.07491522   5.5913544 ]\n",
      " [  3.1826544    1.4109924 ]\n",
      " [-11.528749    -8.535046  ]\n",
      " [-19.193014     0.9145676 ]\n",
      " [-30.317423    -6.0680165 ]\n",
      " [-21.435806    19.145056  ]\n",
      " [-31.684633     2.8526516 ]\n",
      " [ -4.9166775    4.433795  ]\n",
      " [-14.270409    -6.463093  ]\n",
      " [ -3.8768048    1.474433  ]\n",
      " [-15.997289    -7.204376  ]\n",
      " [-21.026308    -6.1206207 ]\n",
      " [ -4.9971814    1.0238616 ]\n",
      " [-12.843636    -8.933651  ]\n",
      " [-20.227102     0.6916015 ]\n",
      " [  1.5744683    3.2763987 ]\n",
      " [  2.9389362   -1.4780966 ]\n",
      " [ -3.858241    -1.3884411 ]\n",
      " [ -7.4779263   -9.068396  ]\n",
      " [ -4.814264     5.3215375 ]\n",
      " [-13.953817    -4.8119235 ]\n",
      " [-21.631676    -6.3554807 ]\n",
      " [ -5.2376804    2.0314693 ]\n",
      " [-11.760865    -8.811786  ]\n",
      " [-18.208767     0.83822745]\n",
      " [-21.728218   -10.471206  ]\n",
      " [-16.934984     8.945428  ]\n",
      " [ -4.7418523    2.982968  ]\n",
      " [-20.045208    -6.3252716 ]\n",
      " [  2.5815892    3.7803664 ]\n",
      " [  1.5419666   -5.806008  ]\n",
      " [  2.6978846    1.2633733 ]\n",
      " [ -2.7151632    0.52004594]\n",
      " [ -0.5614292   -8.92779   ]\n",
      " [ -1.2367997    1.7293506 ]\n",
      " [ -3.2415826    0.7591634 ]\n",
      " [  3.0626495   -4.668142  ]\n",
      " [ -2.1072633    0.6271838 ]\n",
      " [ -2.178616    -0.12106904]\n",
      " [  1.9235541   -4.386567  ]\n",
      " [  5.167229    -2.3428612 ]\n",
      " [  2.6478517   -2.662705  ]\n",
      " [  5.0826745   -3.8716629 ]\n",
      " [  2.5722046   -2.118837  ]\n",
      " [ -2.7002368    0.0376015 ]]\n"
     ]
    }
   ],
   "source": [
    "# testing the output\n",
    "mariah = all_melody_np[10]\n",
    "print(mariah.shape)\n",
    "mariah = mariah.reshape(1, 50, 2)\n",
    "test_input = tf.convert_to_tensor(mariah, dtype=tf.float32)\n",
    "#test_input = test_input/50\n",
    "print(\"test_input.shape:\", test_input.shape)\n",
    "test_output = model.predict(test_input, verbose=1)\n",
    "print(test_output.shape)\n",
    "\n",
    "# this output was normalized so we multiply by 50\n",
    "test_output = test_output*50\n",
    "test_output = test_output.reshape(50, 2)\n",
    "print(test_output)"
   ]
  },
  {
   "cell_type": "code",
   "execution_count": null,
   "outputs": [],
   "source": [
    "model.save('saved_model/my_model') "
   ],
   "metadata": {
    "collapsed": false,
    "pycharm": {
     "name": "#%%\n"
    }
   }
  },
  {
   "cell_type": "code",
   "execution_count": 51,
   "metadata": {},
   "outputs": [
    {
     "name": "stdout",
     "output_type": "stream",
     "text": [
      "WARNING:tensorflow:From c:\\users\\caleb\\cis4930- pythonlocal\\pitcher\\venv64\\lib\\site-packages\\tensorflow\\python\\ops\\resource_variable_ops.py:1813: calling BaseResourceVariable.__init__ (from tensorflow.python.ops.resource_variable_ops) with constraint is deprecated and will be removed in a future version.\n",
      "Instructions for updating:\n",
      "If using Keras pass *_constraint arguments to layers.\n",
      "INFO:tensorflow:Assets written to: saved_model/my_model\\assets\n"
     ]
    }
   ],
   "source": [
    "model.save('saved_model/my_model') "
   ]
  }
 ],
 "metadata": {
  "kernelspec": {
   "display_name": "Python 3",
   "language": "python",
   "name": "python3"
  },
  "language_info": {
   "codemirror_mode": {
    "name": "ipython",
    "version": 3
   },
   "file_extension": ".py",
   "mimetype": "text/x-python",
   "name": "python",
   "nbconvert_exporter": "python",
   "pygments_lexer": "ipython3",
   "version": "3.8.2"
  }
 },
 "nbformat": 4,
 "nbformat_minor": 1
}