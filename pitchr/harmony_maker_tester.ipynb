{
 "cells": [
  {
   "cell_type": "code",
   "execution_count": 2,
   "metadata": {},
   "outputs": [],
   "source": [
    "from pitchr import data\n",
    "import pandas as pd\n",
    "import numpy as np\n",
    "DATA_PATH = \"../dataset/_xml_scores\""
   ]
  },
  {
   "cell_type": "code",
   "execution_count": 38,
   "metadata": {},
   "outputs": [
    {
     "name": "stdout",
     "output_type": "stream",
     "text": [
      "type(dataframe): <class 'list'>\n",
      "dataframe.length: 42\n"
     ]
    }
   ],
   "source": [
    "dataframes = data.get_tagged_data()\n",
    "print(\"type(dataframe):\", type(dataframes))\n",
    "print(\"dataframe.length:\", len(dataframes))\n",
    "test_df = dataframes[1]\n",
    "test_np = test_df.to_numpy()\n",
    "test_df1 = test_df[['Clef', 'Pitch Number', 'Pitch Interval', 'Pitch Predictability']]\n",
    "test_np1 = test_df1.to_numpy()"
   ]
  },
  {
   "cell_type": "code",
   "execution_count": 41,
   "metadata": {
    "scrolled": false
   },
   "outputs": [
    {
     "name": "stdout",
     "output_type": "stream",
     "text": [
      "Index(['Clef', 'Pitch Number', 'Pitch Interval', 'Pitch Predictability'], dtype='object')\n",
      "Clef                     G\n",
      "Pitch Number            14\n",
      "Pitch Interval          14\n",
      "Pitch Predictability     0\n",
      "Name: 0, dtype: object\n",
      "Clef                      G\n",
      "Pitch Number              2\n",
      "Pitch Interval          -12\n",
      "Pitch Predictability      0\n",
      "Name: 1, dtype: object\n",
      "(597, 4)\n",
      "['G' 14 14 0.0]\n"
     ]
    }
   ],
   "source": [
    "print(test_df1.columns)\n",
    "print(test_df1.iloc[0])\n",
    "print(test_df1.iloc[1])\n",
    "print(test_np1.shape) \n",
    "print(test_np1[0])"
   ]
  }
 ],
 "metadata": {
  "kernelspec": {
   "display_name": "Python 3",
   "language": "python",
   "name": "python3"
  },
  "language_info": {
   "codemirror_mode": {
    "name": "ipython",
    "version": 3
   },
   "file_extension": ".py",
   "mimetype": "text/x-python",
   "name": "python",
   "nbconvert_exporter": "python",
   "pygments_lexer": "ipython3",
   "version": "3.8.2"
  }
 },
 "nbformat": 4,
 "nbformat_minor": 1
}