{
 "cells": [
  {
   "cell_type": "code",
   "execution_count": 1,
   "metadata": {},
   "outputs": [],
   "source": [
    "from pitchr import data\n",
    "from pitchr import xml_parser\n",
    "import pandas as pd\n",
    "import numpy as np\n",
    "import os\n",
    "DATA_PATH = \"../dataset/_xml_scores\"\n",
    "score_files = os.listdir(DATA_PATH)"
   ]
  },
  {
   "cell_type": "code",
   "execution_count": 2,
   "metadata": {},
   "outputs": [
    {
     "name": "stdout",
     "output_type": "stream",
     "text": [
      "type(dataframe): <class 'list'>\n",
      "type(dataframe): <class 'list'>\n"
     ]
    }
   ],
   "source": [
    "# Load lists of dataframe data\n",
    "list_melody_dfs, list_harmony_dfs = data.get_tagged_data()\n",
    "print(\"type(dataframe):\", type(list_melody_dfs))\n",
    "print(\"type(dataframe):\", type(list_harmony_dfs))\n",
    "print(len(list_melody_dfs))\n",
    "print(len(list_harmony_dfs))"
   ]
  },
  {
   "cell_type": "code",
   "execution_count": 11,
   "metadata": {},
   "outputs": [
    {
     "name": "stdout",
     "output_type": "stream",
     "text": [
      "Index(['Key', 'Clef', 'Letter', 'Octave', 'Accidental', 'Duration', 'Pitch',\n",
      "       'Pitch Number', 'Pitch Interval', 'Pitch Predictability', 'Score Name'],\n",
      "      dtype='object')\n",
      "Index(['Key', 'Clef', 'Letter', 'Octave', 'Accidental', 'Duration', 'Pitch',\n",
      "       'Pitch Number', 'Pitch Interval', 'Pitch Predictability', 'Score Name'],\n",
      "      dtype='object')\n",
      "SCORE NAME: 0       All_I_Want_For_Christmas_Is_You\n",
      "1       All_I_Want_For_Christmas_Is_You\n",
      "2       All_I_Want_For_Christmas_Is_You\n",
      "3       All_I_Want_For_Christmas_Is_You\n",
      "4       All_I_Want_For_Christmas_Is_You\n",
      "                     ...               \n",
      "1161    All_I_Want_For_Christmas_Is_You\n",
      "1162    All_I_Want_For_Christmas_Is_You\n",
      "1163    All_I_Want_For_Christmas_Is_You\n",
      "1164    All_I_Want_For_Christmas_Is_You\n",
      "1165    All_I_Want_For_Christmas_Is_You\n",
      "Name: Score Name, Length: 1166, dtype: object\n"
     ]
    }
   ],
   "source": [
    "# Take the first dataframe \"All I want for christmas is you\"\n",
    "melody_df0 = list_melody_dfs[0]\n",
    "harmony_df0 = list_harmony_dfs[0]\n",
    "print(melody_df0.columns)\n",
    "print(harmony_df0.columns)\n",
    "print(\"SCORE NAME:\", melody_df0['Score Name'])"
   ]
  },
  {
   "cell_type": "code",
   "execution_count": 17,
   "metadata": {},
   "outputs": [
    {
     "name": "stdout",
     "output_type": "stream",
     "text": [
      "Index(['Letter', 'Pitch Number', 'Pitch Interval', 'Pitch Predictability'], dtype='object')\n",
      "Index(['Letter', 'Pitch Number', 'Pitch Interval', 'Pitch Predictability'], dtype='object')\n",
      "First 10 Melody Notes:\n",
      "Letter                  G\n",
      "Pitch Number            7\n",
      "Pitch Interval          7\n",
      "Pitch Predictability    0\n",
      "Name: 0, dtype: object\n",
      "Letter                   B\n",
      "Pitch Number            11\n",
      "Pitch Interval           4\n",
      "Pitch Predictability     0\n",
      "Name: 1, dtype: object\n",
      "Letter                   D\n",
      "Pitch Number            14\n",
      "Pitch Interval           3\n",
      "Pitch Predictability     0\n",
      "Name: 2, dtype: object\n",
      "Letter                   F\n",
      "Pitch Number            18\n",
      "Pitch Interval           4\n",
      "Pitch Predictability     0\n",
      "Name: 3, dtype: object\n",
      "Letter                   G\n",
      "Pitch Number            19\n",
      "Pitch Interval           1\n",
      "Pitch Predictability     0\n",
      "Name: 4, dtype: object\n",
      "Letter                   F\n",
      "Pitch Number            18\n",
      "Pitch Interval          -1\n",
      "Pitch Predictability     0\n",
      "Name: 5, dtype: object\n",
      "Letter                   D\n",
      "Pitch Number            14\n",
      "Pitch Interval          -4\n",
      "Pitch Predictability     0\n",
      "Name: 6, dtype: object\n",
      "Letter                   B\n",
      "Pitch Number            11\n",
      "Pitch Interval          -3\n",
      "Pitch Predictability     0\n",
      "Name: 7, dtype: object\n",
      "Letter                   G\n",
      "Pitch Number             7\n",
      "Pitch Interval          -4\n",
      "Pitch Predictability     0\n",
      "Name: 8, dtype: object\n",
      "Letter                   C\n",
      "Pitch Number            12\n",
      "Pitch Interval           5\n",
      "Pitch Predictability     0\n",
      "Name: 9, dtype: object\n",
      "\n",
      "First 10 Harmony Notes:\n",
      "Letter                  G\n",
      "Pitch Number            7\n",
      "Pitch Interval          7\n",
      "Pitch Predictability    0\n",
      "Name: 0, dtype: object\n",
      "Letter                   E\n",
      "Pitch Number            16\n",
      "Pitch Interval           9\n",
      "Pitch Predictability     0\n",
      "Name: 1, dtype: object\n",
      "Letter                   C\n",
      "Pitch Number            12\n",
      "Pitch Interval          -4\n",
      "Pitch Predictability     0\n",
      "Name: 2, dtype: object\n",
      "Letter                   D\n",
      "Pitch Number            14\n",
      "Pitch Interval           2\n",
      "Pitch Predictability     0\n",
      "Name: 3, dtype: object\n",
      "Letter                    G\n",
      "Pitch Number             -5\n",
      "Pitch Interval          -19\n",
      "Pitch Predictability      0\n",
      "Name: 4, dtype: object\n",
      "Letter                    B\n",
      "Pitch Number            -13\n",
      "Pitch Interval           -8\n",
      "Pitch Predictability      0\n",
      "Name: 5, dtype: object\n",
      "Letter                   B\n",
      "Pitch Number            -1\n",
      "Pitch Interval          12\n",
      "Pitch Predictability     0\n",
      "Name: 6, dtype: object\n",
      "Letter                    C\n",
      "Pitch Number            -12\n",
      "Pitch Interval          -11\n",
      "Pitch Predictability      0\n",
      "Name: 7, dtype: object\n",
      "Letter                   C\n",
      "Pitch Number             0\n",
      "Pitch Interval          12\n",
      "Pitch Predictability     0\n",
      "Name: 8, dtype: object\n",
      "Letter                    D\n",
      "Pitch Number            -10\n",
      "Pitch Interval          -10\n",
      "Pitch Predictability      0\n",
      "Name: 9, dtype: object\n"
     ]
    }
   ],
   "source": [
    "# Do we need Letter if we already have Pitch Number?\n",
    "# We're only using these 4 columns for now\n",
    "melody_df0 = melody_df0[['Letter', 'Pitch Number', 'Pitch Interval', 'Pitch Predictability']]\n",
    "harmony_df0 = harmony_df0[['Letter', 'Pitch Number', 'Pitch Interval', 'Pitch Predictability']]\n",
    "print(melody_df0.columns)\n",
    "print(harmony_df0.columns)\n",
    "print(\"First 10 Melody Notes:\")\n",
    "for i in range(0, 10):\n",
    "    print(melody_df0.iloc[i])\n",
    "print(\"\\nFirst 10 Harmony Notes:\")\n",
    "for i in range(0, 10):\n",
    "    print(harmony_df0.iloc[i])\n",
    "\n",
    "# Find a way to fix the chords. They're being serialized as Brian said"
   ]
  },
  {
   "cell_type": "code",
   "execution_count": 6,
   "metadata": {},
   "outputs": [
    {
     "name": "stdout",
     "output_type": "stream",
     "text": [
      "melody_np0 shape: (1166, 4)\n",
      "harmony_np0 shape: (425, 4)\n"
     ]
    }
   ],
   "source": [
    "# Convert to numpy array for Machine-learning\n",
    "melody_np0 = melody_df0.to_numpy()\n",
    "harmony_np0 = harmony_df0.to_numpy()\n",
    "print(\"melody_np0 shape:\", melody_np0.shape) \n",
    "print(\"harmony_np0 shape:\", harmony_np0.shape) \n",
    "\n",
    "# I don't know if the shape difference is important in ML algorithm yet. It shouldn't make a difference"
   ]
  },
  {
   "cell_type": "code",
   "execution_count": 7,
   "metadata": {},
   "outputs": [
    {
     "name": "stdout",
     "output_type": "stream",
     "text": [
      "MELODY:\n",
      " [['G' 7 7 0.0]\n",
      " ['B' 11 4 0.0]\n",
      " ['D' 14 3 0.0]\n",
      " ...\n",
      " ['G' 19 5 0.35]\n",
      " ['REST' '' -19 0.02]\n",
      " ['REST' '' 0 0.0]]\n",
      "\n",
      "HARMONY:\n",
      " [['G' 7 7 0.0]\n",
      " ['E' 16 9 0.0]\n",
      " ['C' 12 -4 0.0]\n",
      " ...\n",
      " ['G' 7 12 0.0]\n",
      " ['REST' '' -7 0.0]\n",
      " ['REST' '' 0 0.75]]\n"
     ]
    }
   ],
   "source": [
    "print(\"MELODY:\\n\", melody_np0, end=\"\\n\\n\")\n",
    "print(\"HARMONY:\\n\", harmony_np0)"
   ]
  }
 ],
 "metadata": {
  "kernelspec": {
   "display_name": "Python 3",
   "language": "python",
   "name": "python3"
  },
  "language_info": {
   "codemirror_mode": {
    "name": "ipython",
    "version": 3
   },
   "file_extension": ".py",
   "mimetype": "text/x-python",
   "name": "python",
   "nbconvert_exporter": "python",
   "pygments_lexer": "ipython3",
   "version": "3.8.2"
  }
 },
 "nbformat": 4,
 "nbformat_minor": 1
}