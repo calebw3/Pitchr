{
 "cells": [
  {
   "cell_type": "code",
   "execution_count": 1,
   "metadata": {},
   "outputs": [],
   "source": [
    "from pitchr import xml_parser\n",
    "from pitchr import harmony_maker\n",
    "import pandas as pd\n",
    "import numpy as np\n",
    "import os\n",
    "import tensorflow as tf\n",
    "from tensorflow import keras\n",
    "from tensorflow.keras.models import Sequential\n",
    "from tensorflow.keras.layers import Dense, LSTM, Flatten, Dropout\n",
    "DATA_PATH = \"../dataset/_xml_scores\"\n",
    "score_files = os.listdir(DATA_PATH)"
   ]
  },
  {
   "cell_type": "code",
   "execution_count": 4,
   "metadata": {
    "scrolled": false
   },
   "outputs": [
    {
     "name": "stdout",
     "output_type": "stream",
     "text": [
      "Part_number: 2\n",
      "GNone,ENone,CNone,DNone,GNone,BNone,CNone,Dsharp,DNone,BNone,ENone,Dsharp,DNone,DNone,CNone,CNone,GNone,GNone,ANone,DNone,GNone,GNone,GNone,GNone,GNone,GNone,GNone,GNone,GNone,GNone,GNone,GNone,GNone,ANone,Bflat,Bnatural,CNone,CNone,CNone,CNone,CNone,CNone,CNone,DNone,Dsharp,Dsharp,DNone,DNone,DNone,Dsharp,\n",
      "GNone,GNone,GNone,GNone,GNone,GNone,GNone,GNone,GNone,GNone,GNone,GNone,GNone,ANone,Bflat,Bnatural,CNone,CNone,CNone,CNone,CNone,CNone,CNone,DNone,Dsharp,Dsharp,DNone,DNone,DNone,Dsharp,DNone,DNone,DNone,GNone,GNone,GNone,GNone,GNone,ANone,BNone,BNone,BNone,ENone,ENone,ENone,ENone,ENone,ENone,Dsharp,DNone,\n",
      "DNone,DNone,DNone,DNone,ENone,ENone,ENone,ENone,ENone,ANone,ANone,ANone,ANone,DNone,DNone,DNone,DNone,GNone,GNone,GNone,GNone,ENone,ENone,ENone,ENone,ANone,ANone,ANone,ANone,DNone,DNone,DNone,DNone,DNone,DNone,DNone,DNone,GNone,GNone,GNone,GNone,GNone,GNone,GNone,GNone,GNone,GNone,GNone,GNone,GNone,\n",
      "CNone,CNone,CNone,CNone,CNone,CNone,CNone,DNone,Dsharp,Dsharp,DNone,DNone,DNone,Dsharp,DNone,DNone,DNone,GNone,GNone,GNone,GNone,GNone,GNone,GNone,GNone,GNone,GNone,GNone,GNone,GNone,ANone,Bflat,Bnatural,CNone,CNone,CNone,CNone,CNone,CNone,CNone,DNone,Dsharp,Dsharp,DNone,DNone,DNone,Dsharp,DNone,DNone,DNone,\n",
      "GNone,GNone,GNone,GNone,GNone,ANone,BNone,BNone,BNone,ENone,ENone,ENone,ENone,ENone,ENone,Dsharp,DNone,DNone,DNone,DNone,DNone,DNone,ENone,ENone,ENone,ENone,ENone,ANone,ANone,ANone,ANone,DNone,DNone,DNone,DNone,GNone,GNone,GNone,GNone,ENone,ENone,ENone,ENone,ANone,ANone,ANone,ANone,DNone,DNone,DNone,\n",
      "GNone,GNone,GNone,GNone,GNone,GNone,GNone,GNone,GNone,GNone,GNone,GNone,GNone,ANone,Bflat,Bnatural,CNone,CNone,CNone,CNone,CNone,CNone,CNone,DNone,Dsharp,Dsharp,DNone,DNone,DNone,Dsharp,DNone,DNone,DNone,GNone,GNone,GNone,GNone,GNone,GNone,GNone,GNone,GNone,GNone,GNone,GNone,GNone,ANone,Bflat,Bnatural,CNone,\n",
      "CNone,CNone,CNone,DNone,Dsharp,Dsharp,DNone,DNone,DNone,Dsharp,DNone,DNone,DNone,GNone,GNone,GNone,GNone,GNone,ANone,BNone,BNone,BNone,ENone,ENone,ENone,ENone,ENone,ENone,Dsharp,DNone,DNone,DNone,DNone,DNone,DNone,ENone,ENone,ENone,ENone,ENone,ANone,ANone,ANone,ANone,DNone,DNone,DNone,DNone,GNone,GNone,\n",
      "measure_split: [22, 34, 46, 58, 70, 83, 95]\n",
      "Part_number: 1\n",
      "Printing melody notes\n",
      "GNone,BNone,DNone,FNone,GNone,FNone,DNone,BNone,GNone,CNone,DNone,GNone,DNone,GNone,ANone,GNone,BNone,DNone,FNone,GNone,FNone,ENone,DNone,ENone,DNone,RESTNone,ANone,ANone,GNone,GNone,FNone,GNone,FNone,ENone,DNone,ENone,DNone,RESTNone,CNone,ENone,GNone,ANone,BNone,BNone,ANone,GNone,ENone,RESTNone,BNone,DNone,BNone,ANone,GNone,ANone,GNone,Dsharp,Dnatural,GNone,ANone,FNone,GNone,ENone,ENone,FNone,ENone,Dsharp,BNone,ANone,ANone,GNone,GNone,FNone,GNone,Dsharp,RESTNone,DNone,ENone,GNone,DNone,DNone,DNone,DNone,CNone,BNone,BNone,ANone,GNone,GNone,ENone,Dsharp,BNone,ANone,BNone,BNone,BNone,BNone,BNone,BNone,BNone,BNone,BNone,BNone,BNone,BNone,BNone,BNone,BNone,BNone,BNone,BNone,BNone,BNone,BNone,BNone,BNone,BNone,CNone,CNone,CNone,CNone,CNone,CNone,CNone,CNone,CNone,CNone,CNone,CNone,RESTNone,DNone,DNone,DNone,DNone,DNone,DNone,BNone,RESTNone,DNone,FNone,BNone,BNone,FNone,BNone,DNone,CNone,RESTNone,GNone,FNone,GNone,RESTNone,RESTNone,RESTNone,BNone,GNone,DNone,ENone,DNone,GNone,BNone,RESTNone,RESTNone,CNone,RESTNone,GNone,ANone,ENone,ENone,ANone,ENone,ENone,RESTNone,CNone,CNone,RESTNone,GNone,ANone,GNone,\n",
      "Printing melody notes\n",
      "ANone,DNone,Dsharp,RESTNone,DNone,BNone,RESTNone,DNone,FNone,BNone,BNone,DNone,BNone,BNone,BNone,RESTNone,BNone,BNone,DNone,BNone,BNone,GNone,CNone,RESTNone,GNone,ANone,ENone,ENone,ANone,ENone,ENone,RESTNone,CNone,CNone,RESTNone,GNone,ANone,GNone,GNone,ANone,DNone,Dsharp,RESTNone,Dsharp,BNone,ANone,BNone,GNone,GNone,GNone,FNone,FNone,FNone,ANone,BNone,ANone,GNone,GNone,GNone,\n",
      "Printing melody notes\n",
      "FNone,GNone,GNone,Dsharp,DNone,GNone,ENone,ENone,ENone,GNone,CNone,Gnatural,CNone,ENone,CNone,ENone,Gsharp,CNone,CNone,ANone,GNone,GNone,CNone,DNone,BNone,BNone,BNone,BNone,BNone,BNone,BNone,BNone,BNone,BNone,BNone,BNone,BNone,BNone,BNone,BNone,BNone,BNone,BNone,BNone,BNone,BNone,BNone,BNone,ENone,CNone,GNone,ENone,RESTNone,DNone,DNone,DNone,DNone,DNone,DNone,DNone,BNone,RESTNone,DNone,FNone,BNone,BNone,FNone,BNone,DNone,CNone,RESTNone,GNone,FNone,GNone,RESTNone,RESTNone,RESTNone,BNone,\n",
      "Printing melody notes\n",
      "DNone,ENone,DNone,GNone,BNone,RESTNone,RESTNone,CNone,RESTNone,GNone,ANone,ENone,ENone,ANone,ENone,ENone,RESTNone,CNone,CNone,RESTNone,GNone,ANone,GNone,GNone,ANone,DNone,Dsharp,RESTNone,DNone,BNone,RESTNone,DNone,FNone,BNone,BNone,DNone,BNone,BNone,BNone,RESTNone,BNone,BNone,DNone,BNone,BNone,GNone,CNone,RESTNone,GNone,ANone,ENone,ENone,ANone,ENone,ENone,RESTNone,CNone,CNone,RESTNone,GNone,ANone,GNone,\n",
      "Printing melody notes\n",
      "ANone,DNone,Dsharp,RESTNone,Dsharp,BNone,ANone,BNone,GNone,GNone,GNone,FNone,FNone,FNone,ANone,BNone,ANone,GNone,GNone,GNone,GNone,FNone,GNone,GNone,Dsharp,DNone,GNone,ENone,ENone,ENone,GNone,CNone,Gnatural,CNone,ENone,CNone,ENone,Gsharp,CNone,CNone,ANone,GNone,GNone,CNone,DNone,BNone,BNone,BNone,BNone,BNone,BNone,BNone,BNone,BNone,BNone,BNone,BNone,BNone,BNone,BNone,BNone,BNone,BNone,BNone,BNone,BNone,BNone,BNone,BNone,ENone,CNone,GNone,ENone,\n",
      "Printing melody notes\n",
      "DNone,DNone,DNone,DNone,DNone,DNone,DNone,BNone,RESTNone,DNone,FNone,BNone,BNone,FNone,BNone,DNone,BNone,RESTNone,BNone,BNone,DNone,ENone,DNone,GNone,CNone,RESTNone,GNone,ANone,ENone,ENone,ANone,ENone,ENone,RESTNone,CNone,CNone,RESTNone,GNone,ANone,GNone,GNone,ANone,DNone,Dsharp,RESTNone,DNone,BNone,RESTNone,DNone,FNone,BNone,BNone,DNone,BNone,BNone,BNone,RESTNone,BNone,BNone,DNone,BNone,BNone,GNone,\n",
      "Printing melody notes\n",
      "RESTNone,GNone,ANone,ENone,ENone,ANone,ENone,ENone,RESTNone,CNone,CNone,RESTNone,GNone,ANone,GNone,GNone,ANone,DNone,Dsharp,RESTNone,Dsharp,BNone,ANone,BNone,GNone,GNone,GNone,FNone,FNone,FNone,ANone,BNone,ANone,GNone,GNone,GNone,GNone,FNone,GNone,GNone,Dsharp,DNone,GNone,ENone,ENone,ENone,GNone,CNone,Gnatural,CNone,ENone,CNone,ENone,Gsharp,CNone,CNone,ANone,GNone,GNone,CNone,DNone,\n",
      "Printing melody notes\n",
      "\n",
      "Printing melody notes\n",
      "\n",
      "Printing melody notes\n",
      "\n",
      "Printing melody notes\n",
      "\n",
      "Printing melody notes\n",
      "\n",
      "Printing melody notes\n",
      "\n",
      "Printing melody notes\n",
      "\n",
      "Printing melody notes\n",
      "\n",
      "Printing melody notes\n",
      "\n",
      "Printing melody notes\n",
      "\n",
      "Printing melody notes\n",
      "\n",
      "Printing melody notes\n",
      "\n",
      "Printing melody notes\n",
      "\n",
      "Printing melody notes\n",
      "\n",
      "Printing melody notes\n",
      "\n",
      "Printing melody notes\n",
      "\n",
      "Printing melody notes\n",
      "\n",
      "Printing melody notes\n",
      "\n",
      "Printing melody notes\n",
      "\n",
      "Printing melody notes\n",
      "\n",
      "Printing melody notes\n",
      "\n",
      "Printing melody notes\n",
      "\n",
      "Printing melody notes\n",
      "\n",
      "Printing melody notes\n",
      "\n",
      "Printing melody notes\n",
      "\n",
      "Printing melody notes\n",
      "\n",
      "Printing melody notes\n",
      "\n",
      "Printing melody notes\n",
      "\n",
      "Printing melody notes\n",
      "\n",
      "Printing melody notes\n",
      "\n",
      "measure_split: [22, 34, 46, 58, 70, 83, 95]\n"
     ]
    }
   ],
   "source": [
    "path = \"../dataset/_xml_scores\"\n",
    "score_files = os.listdir(path)\n",
    "\n",
    "while \".DS_Store\" in score_files:\n",
    "    score_files.remove(\".DS_Store\")\n",
    "\n",
    "score_name = \"All_I_Want_For_Christmas_Is_You\"\n",
    "file_name = \"score.xml\"\n",
    "target = (f\"{path}/{score_name}/{file_name}\")\n",
    "infile = open(target, 'r', encoding='utf-8')\n",
    "contents = infile.read()\n",
    "infile.close()\n",
    "xml_parser.parse_xml(contents)"
   ]
  },
  {
   "cell_type": "code",
   "execution_count": 16,
   "metadata": {},
   "outputs": [
    {
     "name": "stdout",
     "output_type": "stream",
     "text": [
      "[[[1, 2, 3], [4, 5, 6, 7], [5, 6, 7, 8, 9]]]\n",
      "<class 'list'>\n",
      "<class 'list'>\n"
     ]
    },
    {
     "ename": "ValueError",
     "evalue": "cannot reshape array of size 3 into shape (3,1,2)",
     "output_type": "error",
     "traceback": [
      "\u001B[1;31m---------------------------------------------------------------------------\u001B[0m",
      "\u001B[1;31mValueError\u001B[0m                                Traceback (most recent call last)",
      "\u001B[1;32m<ipython-input-16-f16d33ca03e5>\u001B[0m in \u001B[0;36m<module>\u001B[1;34m\u001B[0m\n\u001B[0;32m      6\u001B[0m     \u001B[0mprint\u001B[0m\u001B[1;33m(\u001B[0m\u001B[0mtype\u001B[0m\u001B[1;33m(\u001B[0m\u001B[0mthing\u001B[0m\u001B[1;33m)\u001B[0m\u001B[1;33m)\u001B[0m\u001B[1;33m\u001B[0m\u001B[1;33m\u001B[0m\u001B[0m\n\u001B[0;32m      7\u001B[0m \u001B[1;31m#print(list.shape)\u001B[0m\u001B[1;33m\u001B[0m\u001B[1;33m\u001B[0m\u001B[1;33m\u001B[0m\u001B[0m\n\u001B[1;32m----> 8\u001B[1;33m \u001B[0mlist\u001B[0m \u001B[1;33m=\u001B[0m \u001B[0mnp\u001B[0m\u001B[1;33m.\u001B[0m\u001B[0marray\u001B[0m\u001B[1;33m(\u001B[0m\u001B[0mlist\u001B[0m\u001B[1;33m)\u001B[0m\u001B[1;33m.\u001B[0m\u001B[0mreshape\u001B[0m\u001B[1;33m(\u001B[0m\u001B[1;36m3\u001B[0m\u001B[1;33m,\u001B[0m \u001B[1;36m1\u001B[0m\u001B[1;33m,\u001B[0m \u001B[1;36m2\u001B[0m\u001B[1;33m)\u001B[0m\u001B[1;33m\u001B[0m\u001B[1;33m\u001B[0m\u001B[0m\n\u001B[0m",
      "\u001B[1;31mValueError\u001B[0m: cannot reshape array of size 3 into shape (3,1,2)"
     ]
    }
   ],
   "source": [
    "list = [[[1, 2, 3], [4, 5, 6, 7], [5, 6, 7, 8, 9]]]\n",
    "for thing in list:\n",
    "    print(type(thing))\n",
    "#print(list.shape)\n",
    "list = np.array(list).reshape(3, 1, 2)"
   ]
  },
  {
   "cell_type": "code",
   "execution_count": 4,
   "metadata": {
    "pycharm": {
     "name": "#%%\n"
    }
   },
   "outputs": [
    {
     "ename": "NameError",
     "evalue": "name 'data' is not defined",
     "output_type": "error",
     "traceback": [
      "\u001B[0;31m---------------------------------------------------------------------------\u001B[0m",
      "\u001B[0;31mNameError\u001B[0m                                 Traceback (most recent call last)",
      "\u001B[0;32m<ipython-input-4-78497506f487>\u001B[0m in \u001B[0;36m<module>\u001B[0;34m\u001B[0m\n\u001B[1;32m      1\u001B[0m \u001B[0;31m# Load lists of dataframe data\u001B[0m\u001B[0;34m\u001B[0m\u001B[0;34m\u001B[0m\u001B[0;34m\u001B[0m\u001B[0m\n\u001B[0;32m----> 2\u001B[0;31m \u001B[0mlist_melody_dfs\u001B[0m\u001B[0;34m,\u001B[0m \u001B[0mlist_harmony_dfs\u001B[0m \u001B[0;34m=\u001B[0m \u001B[0mdata\u001B[0m\u001B[0;34m.\u001B[0m\u001B[0mget_tagged_data\u001B[0m\u001B[0;34m(\u001B[0m\u001B[0;34m)\u001B[0m\u001B[0;34m\u001B[0m\u001B[0;34m\u001B[0m\u001B[0m\n\u001B[0m\u001B[1;32m      3\u001B[0m \u001B[0mprint\u001B[0m\u001B[0;34m(\u001B[0m\u001B[0;34m\"type(dataframe):\"\u001B[0m\u001B[0;34m,\u001B[0m \u001B[0mtype\u001B[0m\u001B[0;34m(\u001B[0m\u001B[0mlist_melody_dfs\u001B[0m\u001B[0;34m)\u001B[0m\u001B[0;34m)\u001B[0m\u001B[0;34m\u001B[0m\u001B[0;34m\u001B[0m\u001B[0m\n\u001B[1;32m      4\u001B[0m \u001B[0mprint\u001B[0m\u001B[0;34m(\u001B[0m\u001B[0;34m\"type(dataframe):\"\u001B[0m\u001B[0;34m,\u001B[0m \u001B[0mtype\u001B[0m\u001B[0;34m(\u001B[0m\u001B[0mlist_harmony_dfs\u001B[0m\u001B[0;34m)\u001B[0m\u001B[0;34m)\u001B[0m\u001B[0;34m\u001B[0m\u001B[0;34m\u001B[0m\u001B[0m\n\u001B[1;32m      5\u001B[0m \u001B[0mprint\u001B[0m\u001B[0;34m(\u001B[0m\u001B[0mlen\u001B[0m\u001B[0;34m(\u001B[0m\u001B[0mlist_melody_dfs\u001B[0m\u001B[0;34m)\u001B[0m\u001B[0;34m)\u001B[0m\u001B[0;34m\u001B[0m\u001B[0;34m\u001B[0m\u001B[0m\n",
      "\u001B[0;31mNameError\u001B[0m: name 'data' is not defined"
     ]
    }
   ],
   "source": [
    "# Load lists of dataframe data\n",
    "list_melody_dfs, list_harmony_dfs = data.get_tagged_data()\n",
    "print(\"type(dataframe):\", type(list_melody_dfs))\n",
    "print(\"type(dataframe):\", type(list_harmony_dfs))\n",
    "print(len(list_melody_dfs))\n",
    "print(len(list_harmony_dfs))"
   ]
  },
  {
   "cell_type": "code",
   "execution_count": null,
   "metadata": {
    "pycharm": {
     "name": "#%%\n"
    }
   },
   "outputs": [],
   "source": [
    "# Take the first dataframe \"All I want for christmas is you\"\n",
    "melody_df0 = list_melody_dfs[0]\n",
    "harmony_df0 = list_harmony_dfs[0]\n",
    "print(melody_df0.columns)\n",
    "print(harmony_df0.columns)\n",
    "print(\"SCORE NAME:\", melody_df0['Score Name'])\n",
    "for i in range(0, len(list_melody_dfs)):\n",
    "    temp_melody = list_melody_dfs[i]\n",
    "    temp_harmony = list_harmony_dfs[i]\n",
    "    print(temp_melody.shape, temp_harmony.shape)\n",
    "    #print(len(temp_melody))"
   ]
  },
  {
   "cell_type": "code",
   "execution_count": 5,
   "metadata": {},
   "outputs": [],
   "source": [
    "# Do we need Letter if we already have Pitch Number?\n",
    "# We're only using these 4 columns for now\n",
    "melody_df0 = melody_df0[['Letter', 'Pitch Number', 'Pitch Interval', 'Pitch Predictability']]\n",
    "harmony_df0 = harmony_df0[['Letter', 'Pitch Number', 'Pitch Interval', 'Pitch Predictability']]\n",
    "print(melody_df0.columns)\n",
    "print(harmony_df0.columns)\n",
    "print(\"First 10 Melody Notes:\")\n",
    "for i in range(0, 10):\n",
    "    print(melody_df0.iloc[i])\n",
    "print(\"\\nFirst 10 Harmony Notes:\")\n",
    "for i in range(0, 10):\n",
    "    print(harmony_df0.iloc[i])\n",
    "\n",
    "# Find a way to fix the chords. They're being serialized as Brian said"
   ]
  },
  {
   "cell_type": "code",
   "execution_count": 7,
   "metadata": {
    "scrolled": true
   },
   "outputs": [
    {
     "ename": "ValueError",
     "evalue": "Failed to convert a NumPy array to a Tensor (Unsupported object type numpy.ndarray).",
     "output_type": "error",
     "traceback": [
      "\u001B[1;31m---------------------------------------------------------------------------\u001B[0m",
      "\u001B[1;31mValueError\u001B[0m                                Traceback (most recent call last)",
      "\u001B[1;32m<ipython-input-7-0353e5d038b2>\u001B[0m in \u001B[0;36m<module>\u001B[1;34m\u001B[0m\n\u001B[0;32m      1\u001B[0m \u001B[1;31m# train model\u001B[0m\u001B[1;33m\u001B[0m\u001B[1;33m\u001B[0m\u001B[1;33m\u001B[0m\u001B[0m\n\u001B[1;32m----> 2\u001B[1;33m trained_model = model.fit(melody_train, harmony_train, validation_data=(melody_validation, harmony_validation),\n\u001B[0m\u001B[0;32m      3\u001B[0m           epochs=50, batch_size=1) # 32 is the default. Might play around with some of the parameters\n\u001B[0;32m      4\u001B[0m \u001B[0mtrained_model\u001B[0m\u001B[1;33m.\u001B[0m\u001B[0msummary\u001B[0m\u001B[1;33m(\u001B[0m\u001B[1;33m)\u001B[0m\u001B[1;33m\u001B[0m\u001B[1;33m\u001B[0m\u001B[0m\n",
      "\u001B[1;32mc:\\users\\caleb\\cis4930- pythonlocal\\pitcher\\venv64\\lib\\site-packages\\tensorflow\\python\\keras\\engine\\training.py\u001B[0m in \u001B[0;36m_method_wrapper\u001B[1;34m(self, *args, **kwargs)\u001B[0m\n\u001B[0;32m     64\u001B[0m   \u001B[1;32mdef\u001B[0m \u001B[0m_method_wrapper\u001B[0m\u001B[1;33m(\u001B[0m\u001B[0mself\u001B[0m\u001B[1;33m,\u001B[0m \u001B[1;33m*\u001B[0m\u001B[0margs\u001B[0m\u001B[1;33m,\u001B[0m \u001B[1;33m**\u001B[0m\u001B[0mkwargs\u001B[0m\u001B[1;33m)\u001B[0m\u001B[1;33m:\u001B[0m\u001B[1;33m\u001B[0m\u001B[1;33m\u001B[0m\u001B[0m\n\u001B[0;32m     65\u001B[0m     \u001B[1;32mif\u001B[0m \u001B[1;32mnot\u001B[0m \u001B[0mself\u001B[0m\u001B[1;33m.\u001B[0m\u001B[0m_in_multi_worker_mode\u001B[0m\u001B[1;33m(\u001B[0m\u001B[1;33m)\u001B[0m\u001B[1;33m:\u001B[0m  \u001B[1;31m# pylint: disable=protected-access\u001B[0m\u001B[1;33m\u001B[0m\u001B[1;33m\u001B[0m\u001B[0m\n\u001B[1;32m---> 66\u001B[1;33m       \u001B[1;32mreturn\u001B[0m \u001B[0mmethod\u001B[0m\u001B[1;33m(\u001B[0m\u001B[0mself\u001B[0m\u001B[1;33m,\u001B[0m \u001B[1;33m*\u001B[0m\u001B[0margs\u001B[0m\u001B[1;33m,\u001B[0m \u001B[1;33m**\u001B[0m\u001B[0mkwargs\u001B[0m\u001B[1;33m)\u001B[0m\u001B[1;33m\u001B[0m\u001B[1;33m\u001B[0m\u001B[0m\n\u001B[0m\u001B[0;32m     67\u001B[0m \u001B[1;33m\u001B[0m\u001B[0m\n\u001B[0;32m     68\u001B[0m     \u001B[1;31m# Running inside `run_distribute_coordinator` already.\u001B[0m\u001B[1;33m\u001B[0m\u001B[1;33m\u001B[0m\u001B[1;33m\u001B[0m\u001B[0m\n",
      "\u001B[1;32mc:\\users\\caleb\\cis4930- pythonlocal\\pitcher\\venv64\\lib\\site-packages\\tensorflow\\python\\keras\\engine\\training.py\u001B[0m in \u001B[0;36mfit\u001B[1;34m(self, x, y, batch_size, epochs, verbose, callbacks, validation_split, validation_data, shuffle, class_weight, sample_weight, initial_epoch, steps_per_epoch, validation_steps, validation_batch_size, validation_freq, max_queue_size, workers, use_multiprocessing)\u001B[0m\n\u001B[0;32m    800\u001B[0m          \u001B[0mtraining_utils\u001B[0m\u001B[1;33m.\u001B[0m\u001B[0mRespectCompiledTrainableState\u001B[0m\u001B[1;33m(\u001B[0m\u001B[0mself\u001B[0m\u001B[1;33m)\u001B[0m\u001B[1;33m:\u001B[0m\u001B[1;33m\u001B[0m\u001B[1;33m\u001B[0m\u001B[0m\n\u001B[0;32m    801\u001B[0m       \u001B[1;31m# Creates a `tf.data.Dataset` and handles batch and epoch iteration.\u001B[0m\u001B[1;33m\u001B[0m\u001B[1;33m\u001B[0m\u001B[1;33m\u001B[0m\u001B[0m\n\u001B[1;32m--> 802\u001B[1;33m       data_handler = data_adapter.DataHandler(\n\u001B[0m\u001B[0;32m    803\u001B[0m           \u001B[0mx\u001B[0m\u001B[1;33m=\u001B[0m\u001B[0mx\u001B[0m\u001B[1;33m,\u001B[0m\u001B[1;33m\u001B[0m\u001B[1;33m\u001B[0m\u001B[0m\n\u001B[0;32m    804\u001B[0m           \u001B[0my\u001B[0m\u001B[1;33m=\u001B[0m\u001B[0my\u001B[0m\u001B[1;33m,\u001B[0m\u001B[1;33m\u001B[0m\u001B[1;33m\u001B[0m\u001B[0m\n",
      "\u001B[1;32mc:\\users\\caleb\\cis4930- pythonlocal\\pitcher\\venv64\\lib\\site-packages\\tensorflow\\python\\keras\\engine\\data_adapter.py\u001B[0m in \u001B[0;36m__init__\u001B[1;34m(self, x, y, sample_weight, batch_size, steps_per_epoch, initial_epoch, epochs, shuffle, class_weight, max_queue_size, workers, use_multiprocessing, model)\u001B[0m\n\u001B[0;32m   1098\u001B[0m \u001B[1;33m\u001B[0m\u001B[0m\n\u001B[0;32m   1099\u001B[0m     \u001B[0madapter_cls\u001B[0m \u001B[1;33m=\u001B[0m \u001B[0mselect_data_adapter\u001B[0m\u001B[1;33m(\u001B[0m\u001B[0mx\u001B[0m\u001B[1;33m,\u001B[0m \u001B[0my\u001B[0m\u001B[1;33m)\u001B[0m\u001B[1;33m\u001B[0m\u001B[1;33m\u001B[0m\u001B[0m\n\u001B[1;32m-> 1100\u001B[1;33m     self._adapter = adapter_cls(\n\u001B[0m\u001B[0;32m   1101\u001B[0m         \u001B[0mx\u001B[0m\u001B[1;33m,\u001B[0m\u001B[1;33m\u001B[0m\u001B[1;33m\u001B[0m\u001B[0m\n\u001B[0;32m   1102\u001B[0m         \u001B[0my\u001B[0m\u001B[1;33m,\u001B[0m\u001B[1;33m\u001B[0m\u001B[1;33m\u001B[0m\u001B[0m\n",
      "\u001B[1;32mc:\\users\\caleb\\cis4930- pythonlocal\\pitcher\\venv64\\lib\\site-packages\\tensorflow\\python\\keras\\engine\\data_adapter.py\u001B[0m in \u001B[0;36m__init__\u001B[1;34m(self, x, y, sample_weights, sample_weight_modes, batch_size, epochs, steps, shuffle, **kwargs)\u001B[0m\n\u001B[0;32m    263\u001B[0m                **kwargs):\n\u001B[0;32m    264\u001B[0m     \u001B[0msuper\u001B[0m\u001B[1;33m(\u001B[0m\u001B[0mTensorLikeDataAdapter\u001B[0m\u001B[1;33m,\u001B[0m \u001B[0mself\u001B[0m\u001B[1;33m)\u001B[0m\u001B[1;33m.\u001B[0m\u001B[0m__init__\u001B[0m\u001B[1;33m(\u001B[0m\u001B[0mx\u001B[0m\u001B[1;33m,\u001B[0m \u001B[0my\u001B[0m\u001B[1;33m,\u001B[0m \u001B[1;33m**\u001B[0m\u001B[0mkwargs\u001B[0m\u001B[1;33m)\u001B[0m\u001B[1;33m\u001B[0m\u001B[1;33m\u001B[0m\u001B[0m\n\u001B[1;32m--> 265\u001B[1;33m     \u001B[0mx\u001B[0m\u001B[1;33m,\u001B[0m \u001B[0my\u001B[0m\u001B[1;33m,\u001B[0m \u001B[0msample_weights\u001B[0m \u001B[1;33m=\u001B[0m \u001B[0m_process_tensorlike\u001B[0m\u001B[1;33m(\u001B[0m\u001B[1;33m(\u001B[0m\u001B[0mx\u001B[0m\u001B[1;33m,\u001B[0m \u001B[0my\u001B[0m\u001B[1;33m,\u001B[0m \u001B[0msample_weights\u001B[0m\u001B[1;33m)\u001B[0m\u001B[1;33m)\u001B[0m\u001B[1;33m\u001B[0m\u001B[1;33m\u001B[0m\u001B[0m\n\u001B[0m\u001B[0;32m    266\u001B[0m     sample_weight_modes = broadcast_sample_weight_modes(\n\u001B[0;32m    267\u001B[0m         sample_weights, sample_weight_modes)\n",
      "\u001B[1;32mc:\\users\\caleb\\cis4930- pythonlocal\\pitcher\\venv64\\lib\\site-packages\\tensorflow\\python\\keras\\engine\\data_adapter.py\u001B[0m in \u001B[0;36m_process_tensorlike\u001B[1;34m(inputs)\u001B[0m\n\u001B[0;32m   1011\u001B[0m     \u001B[1;32mreturn\u001B[0m \u001B[0mx\u001B[0m\u001B[1;33m\u001B[0m\u001B[1;33m\u001B[0m\u001B[0m\n\u001B[0;32m   1012\u001B[0m \u001B[1;33m\u001B[0m\u001B[0m\n\u001B[1;32m-> 1013\u001B[1;33m   \u001B[0minputs\u001B[0m \u001B[1;33m=\u001B[0m \u001B[0mnest\u001B[0m\u001B[1;33m.\u001B[0m\u001B[0mmap_structure\u001B[0m\u001B[1;33m(\u001B[0m\u001B[0m_convert_numpy_and_scipy\u001B[0m\u001B[1;33m,\u001B[0m \u001B[0minputs\u001B[0m\u001B[1;33m)\u001B[0m\u001B[1;33m\u001B[0m\u001B[1;33m\u001B[0m\u001B[0m\n\u001B[0m\u001B[0;32m   1014\u001B[0m   \u001B[1;32mreturn\u001B[0m \u001B[0mnest\u001B[0m\u001B[1;33m.\u001B[0m\u001B[0m_list_to_tuple\u001B[0m\u001B[1;33m(\u001B[0m\u001B[0minputs\u001B[0m\u001B[1;33m)\u001B[0m  \u001B[1;31m# pylint: disable=protected-access\u001B[0m\u001B[1;33m\u001B[0m\u001B[1;33m\u001B[0m\u001B[0m\n\u001B[0;32m   1015\u001B[0m \u001B[1;33m\u001B[0m\u001B[0m\n",
      "\u001B[1;32mc:\\users\\caleb\\cis4930- pythonlocal\\pitcher\\venv64\\lib\\site-packages\\tensorflow\\python\\util\\nest.py\u001B[0m in \u001B[0;36mmap_structure\u001B[1;34m(func, *structure, **kwargs)\u001B[0m\n\u001B[0;32m    615\u001B[0m \u001B[1;33m\u001B[0m\u001B[0m\n\u001B[0;32m    616\u001B[0m   return pack_sequence_as(\n\u001B[1;32m--> 617\u001B[1;33m       \u001B[0mstructure\u001B[0m\u001B[1;33m[\u001B[0m\u001B[1;36m0\u001B[0m\u001B[1;33m]\u001B[0m\u001B[1;33m,\u001B[0m \u001B[1;33m[\u001B[0m\u001B[0mfunc\u001B[0m\u001B[1;33m(\u001B[0m\u001B[1;33m*\u001B[0m\u001B[0mx\u001B[0m\u001B[1;33m)\u001B[0m \u001B[1;32mfor\u001B[0m \u001B[0mx\u001B[0m \u001B[1;32min\u001B[0m \u001B[0mentries\u001B[0m\u001B[1;33m]\u001B[0m\u001B[1;33m,\u001B[0m\u001B[1;33m\u001B[0m\u001B[1;33m\u001B[0m\u001B[0m\n\u001B[0m\u001B[0;32m    618\u001B[0m       expand_composites=expand_composites)\n\u001B[0;32m    619\u001B[0m \u001B[1;33m\u001B[0m\u001B[0m\n",
      "\u001B[1;32mc:\\users\\caleb\\cis4930- pythonlocal\\pitcher\\venv64\\lib\\site-packages\\tensorflow\\python\\util\\nest.py\u001B[0m in \u001B[0;36m<listcomp>\u001B[1;34m(.0)\u001B[0m\n\u001B[0;32m    615\u001B[0m \u001B[1;33m\u001B[0m\u001B[0m\n\u001B[0;32m    616\u001B[0m   return pack_sequence_as(\n\u001B[1;32m--> 617\u001B[1;33m       \u001B[0mstructure\u001B[0m\u001B[1;33m[\u001B[0m\u001B[1;36m0\u001B[0m\u001B[1;33m]\u001B[0m\u001B[1;33m,\u001B[0m \u001B[1;33m[\u001B[0m\u001B[0mfunc\u001B[0m\u001B[1;33m(\u001B[0m\u001B[1;33m*\u001B[0m\u001B[0mx\u001B[0m\u001B[1;33m)\u001B[0m \u001B[1;32mfor\u001B[0m \u001B[0mx\u001B[0m \u001B[1;32min\u001B[0m \u001B[0mentries\u001B[0m\u001B[1;33m]\u001B[0m\u001B[1;33m,\u001B[0m\u001B[1;33m\u001B[0m\u001B[1;33m\u001B[0m\u001B[0m\n\u001B[0m\u001B[0;32m    618\u001B[0m       expand_composites=expand_composites)\n\u001B[0;32m    619\u001B[0m \u001B[1;33m\u001B[0m\u001B[0m\n",
      "\u001B[1;32mc:\\users\\caleb\\cis4930- pythonlocal\\pitcher\\venv64\\lib\\site-packages\\tensorflow\\python\\keras\\engine\\data_adapter.py\u001B[0m in \u001B[0;36m_convert_numpy_and_scipy\u001B[1;34m(x)\u001B[0m\n\u001B[0;32m   1006\u001B[0m       \u001B[1;32mif\u001B[0m \u001B[0missubclass\u001B[0m\u001B[1;33m(\u001B[0m\u001B[0mx\u001B[0m\u001B[1;33m.\u001B[0m\u001B[0mdtype\u001B[0m\u001B[1;33m.\u001B[0m\u001B[0mtype\u001B[0m\u001B[1;33m,\u001B[0m \u001B[0mnp\u001B[0m\u001B[1;33m.\u001B[0m\u001B[0mfloating\u001B[0m\u001B[1;33m)\u001B[0m\u001B[1;33m:\u001B[0m\u001B[1;33m\u001B[0m\u001B[1;33m\u001B[0m\u001B[0m\n\u001B[0;32m   1007\u001B[0m         \u001B[0mdtype\u001B[0m \u001B[1;33m=\u001B[0m \u001B[0mbackend\u001B[0m\u001B[1;33m.\u001B[0m\u001B[0mfloatx\u001B[0m\u001B[1;33m(\u001B[0m\u001B[1;33m)\u001B[0m\u001B[1;33m\u001B[0m\u001B[1;33m\u001B[0m\u001B[0m\n\u001B[1;32m-> 1008\u001B[1;33m       \u001B[1;32mreturn\u001B[0m \u001B[0mops\u001B[0m\u001B[1;33m.\u001B[0m\u001B[0mconvert_to_tensor\u001B[0m\u001B[1;33m(\u001B[0m\u001B[0mx\u001B[0m\u001B[1;33m,\u001B[0m \u001B[0mdtype\u001B[0m\u001B[1;33m=\u001B[0m\u001B[0mdtype\u001B[0m\u001B[1;33m)\u001B[0m\u001B[1;33m\u001B[0m\u001B[1;33m\u001B[0m\u001B[0m\n\u001B[0m\u001B[0;32m   1009\u001B[0m     \u001B[1;32melif\u001B[0m \u001B[0mscipy_sparse\u001B[0m \u001B[1;32mand\u001B[0m \u001B[0mscipy_sparse\u001B[0m\u001B[1;33m.\u001B[0m\u001B[0missparse\u001B[0m\u001B[1;33m(\u001B[0m\u001B[0mx\u001B[0m\u001B[1;33m)\u001B[0m\u001B[1;33m:\u001B[0m\u001B[1;33m\u001B[0m\u001B[1;33m\u001B[0m\u001B[0m\n\u001B[0;32m   1010\u001B[0m       \u001B[1;32mreturn\u001B[0m \u001B[0m_scipy_sparse_to_sparse_tensor\u001B[0m\u001B[1;33m(\u001B[0m\u001B[0mx\u001B[0m\u001B[1;33m)\u001B[0m\u001B[1;33m\u001B[0m\u001B[1;33m\u001B[0m\u001B[0m\n",
      "\u001B[1;32mc:\\users\\caleb\\cis4930- pythonlocal\\pitcher\\venv64\\lib\\site-packages\\tensorflow\\python\\framework\\ops.py\u001B[0m in \u001B[0;36mconvert_to_tensor\u001B[1;34m(value, dtype, name, as_ref, preferred_dtype, dtype_hint, ctx, accepted_result_types)\u001B[0m\n\u001B[0;32m   1339\u001B[0m \u001B[1;33m\u001B[0m\u001B[0m\n\u001B[0;32m   1340\u001B[0m     \u001B[1;32mif\u001B[0m \u001B[0mret\u001B[0m \u001B[1;32mis\u001B[0m \u001B[1;32mNone\u001B[0m\u001B[1;33m:\u001B[0m\u001B[1;33m\u001B[0m\u001B[1;33m\u001B[0m\u001B[0m\n\u001B[1;32m-> 1341\u001B[1;33m       \u001B[0mret\u001B[0m \u001B[1;33m=\u001B[0m \u001B[0mconversion_func\u001B[0m\u001B[1;33m(\u001B[0m\u001B[0mvalue\u001B[0m\u001B[1;33m,\u001B[0m \u001B[0mdtype\u001B[0m\u001B[1;33m=\u001B[0m\u001B[0mdtype\u001B[0m\u001B[1;33m,\u001B[0m \u001B[0mname\u001B[0m\u001B[1;33m=\u001B[0m\u001B[0mname\u001B[0m\u001B[1;33m,\u001B[0m \u001B[0mas_ref\u001B[0m\u001B[1;33m=\u001B[0m\u001B[0mas_ref\u001B[0m\u001B[1;33m)\u001B[0m\u001B[1;33m\u001B[0m\u001B[1;33m\u001B[0m\u001B[0m\n\u001B[0m\u001B[0;32m   1342\u001B[0m \u001B[1;33m\u001B[0m\u001B[0m\n\u001B[0;32m   1343\u001B[0m     \u001B[1;32mif\u001B[0m \u001B[0mret\u001B[0m \u001B[1;32mis\u001B[0m \u001B[0mNotImplemented\u001B[0m\u001B[1;33m:\u001B[0m\u001B[1;33m\u001B[0m\u001B[1;33m\u001B[0m\u001B[0m\n",
      "\u001B[1;32mc:\\users\\caleb\\cis4930- pythonlocal\\pitcher\\venv64\\lib\\site-packages\\tensorflow\\python\\framework\\tensor_conversion_registry.py\u001B[0m in \u001B[0;36m_default_conversion_function\u001B[1;34m(***failed resolving arguments***)\u001B[0m\n\u001B[0;32m     50\u001B[0m \u001B[1;32mdef\u001B[0m \u001B[0m_default_conversion_function\u001B[0m\u001B[1;33m(\u001B[0m\u001B[0mvalue\u001B[0m\u001B[1;33m,\u001B[0m \u001B[0mdtype\u001B[0m\u001B[1;33m,\u001B[0m \u001B[0mname\u001B[0m\u001B[1;33m,\u001B[0m \u001B[0mas_ref\u001B[0m\u001B[1;33m)\u001B[0m\u001B[1;33m:\u001B[0m\u001B[1;33m\u001B[0m\u001B[1;33m\u001B[0m\u001B[0m\n\u001B[0;32m     51\u001B[0m   \u001B[1;32mdel\u001B[0m \u001B[0mas_ref\u001B[0m  \u001B[1;31m# Unused.\u001B[0m\u001B[1;33m\u001B[0m\u001B[1;33m\u001B[0m\u001B[0m\n\u001B[1;32m---> 52\u001B[1;33m   \u001B[1;32mreturn\u001B[0m \u001B[0mconstant_op\u001B[0m\u001B[1;33m.\u001B[0m\u001B[0mconstant\u001B[0m\u001B[1;33m(\u001B[0m\u001B[0mvalue\u001B[0m\u001B[1;33m,\u001B[0m \u001B[0mdtype\u001B[0m\u001B[1;33m,\u001B[0m \u001B[0mname\u001B[0m\u001B[1;33m=\u001B[0m\u001B[0mname\u001B[0m\u001B[1;33m)\u001B[0m\u001B[1;33m\u001B[0m\u001B[1;33m\u001B[0m\u001B[0m\n\u001B[0m\u001B[0;32m     53\u001B[0m \u001B[1;33m\u001B[0m\u001B[0m\n\u001B[0;32m     54\u001B[0m \u001B[1;33m\u001B[0m\u001B[0m\n",
      "\u001B[1;32mc:\\users\\caleb\\cis4930- pythonlocal\\pitcher\\venv64\\lib\\site-packages\\tensorflow\\python\\framework\\constant_op.py\u001B[0m in \u001B[0;36mconstant\u001B[1;34m(value, dtype, shape, name)\u001B[0m\n\u001B[0;32m    259\u001B[0m     \u001B[0mValueError\u001B[0m\u001B[1;33m:\u001B[0m \u001B[1;32mif\u001B[0m \u001B[0mcalled\u001B[0m \u001B[0mon\u001B[0m \u001B[0ma\u001B[0m \u001B[0msymbolic\u001B[0m \u001B[0mtensor\u001B[0m\u001B[1;33m.\u001B[0m\u001B[1;33m\u001B[0m\u001B[1;33m\u001B[0m\u001B[0m\n\u001B[0;32m    260\u001B[0m   \"\"\"\n\u001B[1;32m--> 261\u001B[1;33m   return _constant_impl(value, dtype, shape, name, verify_shape=False,\n\u001B[0m\u001B[0;32m    262\u001B[0m                         allow_broadcast=True)\n\u001B[0;32m    263\u001B[0m \u001B[1;33m\u001B[0m\u001B[0m\n",
      "\u001B[1;32mc:\\users\\caleb\\cis4930- pythonlocal\\pitcher\\venv64\\lib\\site-packages\\tensorflow\\python\\framework\\constant_op.py\u001B[0m in \u001B[0;36m_constant_impl\u001B[1;34m(value, dtype, shape, name, verify_shape, allow_broadcast)\u001B[0m\n\u001B[0;32m    268\u001B[0m   \u001B[0mctx\u001B[0m \u001B[1;33m=\u001B[0m \u001B[0mcontext\u001B[0m\u001B[1;33m.\u001B[0m\u001B[0mcontext\u001B[0m\u001B[1;33m(\u001B[0m\u001B[1;33m)\u001B[0m\u001B[1;33m\u001B[0m\u001B[1;33m\u001B[0m\u001B[0m\n\u001B[0;32m    269\u001B[0m   \u001B[1;32mif\u001B[0m \u001B[0mctx\u001B[0m\u001B[1;33m.\u001B[0m\u001B[0mexecuting_eagerly\u001B[0m\u001B[1;33m(\u001B[0m\u001B[1;33m)\u001B[0m\u001B[1;33m:\u001B[0m\u001B[1;33m\u001B[0m\u001B[1;33m\u001B[0m\u001B[0m\n\u001B[1;32m--> 270\u001B[1;33m     \u001B[0mt\u001B[0m \u001B[1;33m=\u001B[0m \u001B[0mconvert_to_eager_tensor\u001B[0m\u001B[1;33m(\u001B[0m\u001B[0mvalue\u001B[0m\u001B[1;33m,\u001B[0m \u001B[0mctx\u001B[0m\u001B[1;33m,\u001B[0m \u001B[0mdtype\u001B[0m\u001B[1;33m)\u001B[0m\u001B[1;33m\u001B[0m\u001B[1;33m\u001B[0m\u001B[0m\n\u001B[0m\u001B[0;32m    271\u001B[0m     \u001B[1;32mif\u001B[0m \u001B[0mshape\u001B[0m \u001B[1;32mis\u001B[0m \u001B[1;32mNone\u001B[0m\u001B[1;33m:\u001B[0m\u001B[1;33m\u001B[0m\u001B[1;33m\u001B[0m\u001B[0m\n\u001B[0;32m    272\u001B[0m       \u001B[1;32mreturn\u001B[0m \u001B[0mt\u001B[0m\u001B[1;33m\u001B[0m\u001B[1;33m\u001B[0m\u001B[0m\n",
      "\u001B[1;32mc:\\users\\caleb\\cis4930- pythonlocal\\pitcher\\venv64\\lib\\site-packages\\tensorflow\\python\\framework\\constant_op.py\u001B[0m in \u001B[0;36mconvert_to_eager_tensor\u001B[1;34m(value, ctx, dtype)\u001B[0m\n\u001B[0;32m     94\u001B[0m       \u001B[0mdtype\u001B[0m \u001B[1;33m=\u001B[0m \u001B[0mdtypes\u001B[0m\u001B[1;33m.\u001B[0m\u001B[0mas_dtype\u001B[0m\u001B[1;33m(\u001B[0m\u001B[0mdtype\u001B[0m\u001B[1;33m)\u001B[0m\u001B[1;33m.\u001B[0m\u001B[0mas_datatype_enum\u001B[0m\u001B[1;33m\u001B[0m\u001B[1;33m\u001B[0m\u001B[0m\n\u001B[0;32m     95\u001B[0m   \u001B[0mctx\u001B[0m\u001B[1;33m.\u001B[0m\u001B[0mensure_initialized\u001B[0m\u001B[1;33m(\u001B[0m\u001B[1;33m)\u001B[0m\u001B[1;33m\u001B[0m\u001B[1;33m\u001B[0m\u001B[0m\n\u001B[1;32m---> 96\u001B[1;33m   \u001B[1;32mreturn\u001B[0m \u001B[0mops\u001B[0m\u001B[1;33m.\u001B[0m\u001B[0mEagerTensor\u001B[0m\u001B[1;33m(\u001B[0m\u001B[0mvalue\u001B[0m\u001B[1;33m,\u001B[0m \u001B[0mctx\u001B[0m\u001B[1;33m.\u001B[0m\u001B[0mdevice_name\u001B[0m\u001B[1;33m,\u001B[0m \u001B[0mdtype\u001B[0m\u001B[1;33m)\u001B[0m\u001B[1;33m\u001B[0m\u001B[1;33m\u001B[0m\u001B[0m\n\u001B[0m\u001B[0;32m     97\u001B[0m \u001B[1;33m\u001B[0m\u001B[0m\n\u001B[0;32m     98\u001B[0m \u001B[1;33m\u001B[0m\u001B[0m\n",
      "\u001B[1;31mValueError\u001B[0m: Failed to convert a NumPy array to a Tensor (Unsupported object type numpy.ndarray)."
     ]
    }
   ],
   "source": [
    "# train model\n",
    "trained_model = model.fit(melody_train, harmony_train, validation_data=(melody_validation, harmony_validation),\n",
    "          epochs=50, batch_size=1) # 32 is the default. Might play around with some of the parameters\n",
    "trained_model.summary()"
   ]
  },
  {
   "cell_type": "code",
   "execution_count": null,
   "metadata": {
    "pycharm": {
     "name": "#%%\n"
    }
   },
   "outputs": [],
   "source": [
    "# Load lists of dataframe data\n",
    "list_melody_dfs, list_harmony_dfs = data.get_tagged_data()\n",
    "print(\"type(dataframe):\", type(list_melody_dfs))\n",
    "print(\"type(dataframe):\", type(list_harmony_dfs))\n",
    "print(len(list_melody_dfs))\n",
    "print(len(list_harmony_dfs))"
   ]
  },
  {
   "cell_type": "code",
   "execution_count": null,
   "metadata": {
    "pycharm": {
     "name": "#%%\n"
    }
   },
   "outputs": [],
   "source": [
    "# Load lists of dataframe data\n",
    "list_melody_dfs, list_harmony_dfs = data.get_tagged_data()\n",
    "print(\"type(dataframe):\", type(list_melody_dfs))\n",
    "print(\"type(dataframe):\", type(list_harmony_dfs))\n",
    "print(len(list_melody_dfs))\n",
    "print(len(list_harmony_dfs))"
   ]
  },
  {
   "cell_type": "code",
   "execution_count": 13,
   "metadata": {
    "scrolled": false
   },
   "outputs": [
    {
     "name": "stdout",
     "output_type": "stream",
     "text": [
      "type(dataframe): <class 'list'>\n",
      "type(dataframe): <class 'list'>\n",
      "42\n",
      "42\n"
     ]
    }
   ],
   "source": [
    "# Load lists of dataframe data\n",
    "list_melody_dfs, list_harmony_dfs = data.get_tagged_data()\n",
    "print(\"type(dataframe):\", type(list_melody_dfs))\n",
    "print(\"type(dataframe):\", type(list_harmony_dfs))\n",
    "print(len(list_melody_dfs))\n",
    "print(len(list_harmony_dfs))"
   ]
  },
  {
   "cell_type": "code",
   "execution_count": 2,
   "metadata": {},
   "outputs": [
    {
     "name": "stdout",
     "output_type": "stream",
     "text": [
      "type(dataframe): <class 'list'>\n",
      "type(dataframe): <class 'list'>\n",
      "42\n",
      "42\n"
     ]
    }
   ],
   "source": [
    "# Load lists of dataframe data\n",
    "list_melody_dfs, list_harmony_dfs = data.get_tagged_data()\n",
    "print(\"type(dataframe):\", type(list_melody_dfs))\n",
    "print(\"type(dataframe):\", type(list_harmony_dfs))\n",
    "print(len(list_melody_dfs))\n",
    "print(len(list_harmony_dfs))"
   ]
  },
  {
   "cell_type": "code",
   "execution_count": 9,
   "metadata": {
    "scrolled": false
   },
   "outputs": [
    {
     "name": "stdout",
     "output_type": "stream",
     "text": [
      "Index(['Key', 'Clef', 'Letter', 'Octave', 'Accidental', 'Duration', 'Pitch',\n",
      "       'Pitch Number', 'Pitch Interval', 'Pitch Predictability', 'Score Name'],\n",
      "      dtype='object')\n",
      "Index(['Key', 'Clef', 'Letter', 'Octave', 'Accidental', 'Duration', 'Pitch',\n",
      "       'Pitch Number', 'Pitch Interval', 'Pitch Predictability', 'Score Name'],\n",
      "      dtype='object')\n",
      "SCORE NAME: 0      All_I_Want_For_Christmas_Is_You\n",
      "1      All_I_Want_For_Christmas_Is_You\n",
      "2      All_I_Want_For_Christmas_Is_You\n",
      "3      All_I_Want_For_Christmas_Is_You\n",
      "4      All_I_Want_For_Christmas_Is_You\n",
      "                    ...               \n",
      "605    All_I_Want_For_Christmas_Is_You\n",
      "606    All_I_Want_For_Christmas_Is_You\n",
      "607    All_I_Want_For_Christmas_Is_You\n",
      "608    All_I_Want_For_Christmas_Is_You\n",
      "609    All_I_Want_For_Christmas_Is_You\n",
      "Name: Score Name, Length: 610, dtype: object\n",
      "(610, 11) (410, 11)\n",
      "(285, 11) (312, 11)\n",
      "(1588, 11) (1423, 11)\n",
      "(307, 11) (337, 11)\n",
      "(683, 11) (640, 11)\n",
      "(137, 11) (180, 11)\n",
      "(254, 11) (376, 11)\n",
      "(57, 11) (62, 11)\n",
      "(179, 11) (194, 11)\n",
      "(52, 11) (39, 11)\n",
      "(207, 11) (143, 11)\n",
      "(114, 11) (181, 11)\n",
      "(165, 11) (139, 11)\n",
      "(237, 11) (346, 11)\n",
      "(232, 11) (186, 11)\n",
      "(231, 11) (256, 11)\n",
      "(221, 11) (240, 11)\n",
      "(103, 11) (50, 11)\n",
      "(135, 11) (197, 11)\n",
      "(245, 11) (220, 11)\n",
      "(888, 11) (486, 11)\n",
      "(121, 11) (141, 11)\n",
      "(233, 11) (248, 11)\n",
      "(99, 11) (53, 11)\n",
      "(911, 11) (411, 11)\n",
      "(65, 11) (121, 11)\n",
      "(62, 11) (60, 11)\n",
      "(288, 11) (24, 11)\n",
      "(380, 11) (426, 11)\n",
      "(617, 11) (351, 11)\n",
      "(52, 11) (33, 11)\n",
      "(255, 11) (264, 11)\n",
      "(196, 11) (214, 11)\n",
      "(99, 11) (99, 11)\n",
      "(266, 11) (275, 11)\n",
      "(133, 11) (162, 11)\n",
      "(193, 11) (205, 11)\n",
      "(328, 11) (365, 11)\n",
      "(276, 11) (120, 11)\n",
      "(74, 11) (74, 11)\n",
      "(1387, 11) (403, 11)\n",
      "(186, 11) (185, 11)\n"
     ]
    }
   ],
   "source": [
    "# Take the first dataframe \"All I want for christmas is you\"\n",
    "melody_df0 = list_melody_dfs[0]\n",
    "harmony_df0 = list_harmony_dfs[0]\n",
    "print(melody_df0.columns)\n",
    "print(harmony_df0.columns)\n",
    "print(\"SCORE NAME:\", melody_df0['Score Name'])\n",
    "for i in range(0, len(list_melody_dfs)):\n",
    "    temp_melody = list_melody_dfs[i]\n",
    "    temp_harmony = list_harmony_dfs[i]\n",
    "    print(temp_melody.shape, temp_harmony.shape)\n",
    "    #print(len(temp_melody))"
   ]
  },
  {
   "cell_type": "code",
   "execution_count": null,
   "metadata": {},
   "outputs": [],
   "source": [
    "# Do we need Letter if we already have Pitch Number?\n",
    "# We're only using these 4 columns for now\n",
    "melody_df0 = melody_df0[['Letter', 'Pitch Number', 'Pitch Interval', 'Pitch Predictability']]\n",
    "harmony_df0 = harmony_df0[['Letter', 'Pitch Number', 'Pitch Interval', 'Pitch Predictability']]\n",
    "print(melody_df0.columns)\n",
    "print(harmony_df0.columns)\n",
    "print(\"First 10 Melody Notes:\")\n",
    "for i in range(0, 10):\n",
    "    print(melody_df0.iloc[i])\n",
    "print(\"\\nFirst 10 Harmony Notes:\")\n",
    "for i in range(0, 10):\n",
    "    print(harmony_df0.iloc[i])\n",
    "\n",
    "# Find a way to fix the chords. They're being serialized as Brian said"
   ]
  },
  {
   "cell_type": "code",
   "execution_count": null,
   "metadata": {},
   "outputs": [],
   "source": [
    "# Convert to numpy array for Machine-learning\n",
    "melody_np0 = melody_df0.to_numpy()\n",
    "harmony_np0 = harmony_df0.to_numpy()\n",
    "print(\"melody_np0 shape:\", melody_np0.shape) \n",
    "print(\"harmony_np0 shape:\", harmony_np0.shape) \n",
    "\n",
    "# I don't know if the shape difference is important in ML algorithm yet. It shouldn't make a difference"
   ]
  },
  {
   "cell_type": "code",
   "execution_count": null,
   "metadata": {},
   "outputs": [],
   "source": [
    "print(\"MELODY:\\n\", melody_np0, end=\"\\n\\n\")\n",
    "print(\"HARMONY:\\n\", harmony_np0)"
   ]
  },
  {
   "cell_type": "code",
   "execution_count": null,
   "metadata": {},
   "outputs": [],
   "source": [
    "for i in range(0, len(list_melody_dfs)):\n",
    "    temp_melody_df = list_melody_dfs[i]\n",
    "    temp_harmony_df = list_harmony_dfs[i]\n",
    "    temp_melody_df = temp_melody_df[['Letter', 'Pitch Number', 'Pitch Interval', 'Pitch Predictability']]\n",
    "    temp_harmony_df = temp_harmony_df[['Letter', 'Pitch Number', 'Pitch Interval', 'Pitch Predictability']]\n",
    "    temp_melody_np = temp_melody_df.to_numpy()\n",
    "    temp_harmony_np = temp_harmony_df.to_numpy()\n",
    "    print(temp_melody_np.shape, temp_harmony_np.shape)\n",
    "    print(type(temp_melody_np), type(temp_harmony_np))\n",
    "    list_melody_dfs[i] = temp_melody_np\n",
    "    list_harmony_dfs[i] = temp_harmony_np"
   ]
  },
  {
   "cell_type": "code",
   "execution_count": null,
   "metadata": {},
   "outputs": [],
   "source": [
    "for df in list_melody_dfs:\n",
    "    print(type(df))\n",
    "for df in list_harmony_dfs:\n",
    "    print(type(df))"
   ]
  },
  {
   "cell_type": "code",
   "execution_count": 2,
   "metadata": {
    "pycharm": {
     "name": "#%%\n"
    }
   },
   "outputs": [],
   "source": [
    "melody_train, melody_validation, melody_test, harmony_train, harmony_validation, harmony_test = harmony_maker.prepare_data(.2, .1)"
   ]
  },
  {
   "cell_type": "code",
   "execution_count": 5,
   "metadata": {},
   "outputs": [
    {
     "name": "stdout",
     "output_type": "stream",
     "text": [
      "<class 'numpy.ndarray'>\n",
      "(29,)\n",
      "(237, 3)\n",
      "<class 'numpy.ndarray'>\n",
      "(29,)\n",
      "(143, 3)\n"
     ]
    }
   ],
   "source": [
    "print(type(melody_train))\n",
    "print(melody_train.shape)\n",
    "print(melody_train[0].shape)\n",
    "print(type(harmony_train))\n",
    "print(harmony_train.shape)\n",
    "print(harmony_train[1].shape)"
   ]
  },
  {
   "cell_type": "code",
   "execution_count": 4,
   "metadata": {
    "pycharm": {
     "name": "#%%\n"
    }
   },
   "outputs": [
    {
     "name": "stdout",
     "output_type": "stream",
     "text": [
      "Model: \"sequential\"\n",
      "_________________________________________________________________\n",
      "Layer (type)                 Output Shape              Param #   \n",
      "=================================================================\n",
      "lstm (LSTM)                  (None, None, 128)         67584     \n",
      "_________________________________________________________________\n",
      "lstm_1 (LSTM)                (None, 64)                49408     \n",
      "_________________________________________________________________\n",
      "dense (Dense)                (None, 64)                4160      \n",
      "_________________________________________________________________\n",
      "dropout (Dropout)            (None, 64)                0         \n",
      "_________________________________________________________________\n",
      "dense_1 (Dense)              (None, 32)                2080      \n",
      "=================================================================\n",
      "Total params: 123,232\n",
      "Trainable params: 123,232\n",
      "Non-trainable params: 0\n",
      "_________________________________________________________________\n"
     ]
    }
   ],
   "source": [
    "model = harmony_maker.build_model()"
   ]
  },
  {
   "cell_type": "code",
   "execution_count": null,
   "metadata": {
    "pycharm": {
     "name": "#%%\n"
    }
   },
   "outputs": [],
   "source": [
    "# compile model\n",
    "optimizer = keras.optimizers.Adam(learning_rate=0.001)\n",
    "model.compile(optimizer=optimizer, loss=\"sparse_categorical_crossentropy\", metrics=[\"accuracy\"])"
   ]
  },
  {
   "cell_type": "code",
   "execution_count": null,
   "metadata": {
    "pycharm": {
     "name": "#%%\n"
    }
   },
   "outputs": [],
   "source": [
    "# train model\n",
    "trained_model = model.fit(melody_train, harmony_train, validation_data=(melody_validation, harmony_validation),\n",
    "          epochs=50, batch_size=1) # 32 is the default. Might play around with some of the parameters\n",
    "trained_model.summary()"
   ]
  }
 ],
 "metadata": {
  "kernelspec": {
   "display_name": "Python 3",
   "language": "python",
   "name": "python3"
  }
 },
 "nbformat": 4,
 "nbformat_minor": 1
}