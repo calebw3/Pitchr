{
 "cells": [
  {
   "cell_type": "code",
   "execution_count": 39,
   "metadata": {},
   "outputs": [],
   "source": [
    "from IPython.display import display, Image\n",
    "from music21 import converter\n",
    "\n",
    "\n",
    "class Piece:\n",
    "    def __init__(self, tempo, time, key):\n",
    "        self.tempo = tempo\n",
    "        self.time = time\n",
    "        self.key = key\n",
    "        self.lyrics = []\n",
    "        \n",
    "    def show(self):\n",
    "        display(Image(filename='/home/azvasquez/School/Python/Pitch/doremi.png'))\n",
    "        self.show = self._show\n",
    "    def _show(self):\n",
    "        display(Image(filename='/home/azvasquez/School/Python/Pitch/doremi_lyrics.png'))\n",
    "\n",
    "        \n",
    "    def add_staff(self, staff):\n",
    "        pass\n",
    "    \n",
    "    def play(self):\n",
    "\n",
    "        melody = converter.parse(\"tinynotation: 3/4 c4 d8 f g16 b g f#\")\n",
    "        melody.show('midi')\n",
    "        \n",
    "class Time:\n",
    "    COMMON_TIME = None\n",
    "        \n",
    "class Key:\n",
    "    C_MAJOR = None\n",
    "    \n",
    "class Staff:\n",
    "    def __init__(self):\n",
    "        self.voices = []\n",
    "        self.voices.insert([])\n",
    "    \n",
    "    def add_voice(self, v):\n",
    "        self.voices.append(v)\n",
    "        \n",
    "    class Treble:\n",
    "        def __init__(self):\n",
    "            self.voices = []\n",
    "            self.voices.insert(0,[])\n",
    "        \n",
    "        \n",
    "        def add_voice(self, v):\n",
    "            self.voices.append(v)\n",
    "\n",
    "class Voice:\n",
    "    def __init__(self):\n",
    "        pass\n",
    "    \n",
    "    PIANO = None\n",
    "    \n",
    "class Note:\n",
    "    def __init__(self, pitch, duration):\n",
    "        self.pitch = pitch\n",
    "        self.duration = duration\n",
    "Do  = 1\n",
    "Re  = 2\n",
    "Mi  = 3\n",
    "Fa  = 4\n",
    "Sol = 5\n",
    "La  = 6\n",
    "Ti  = 7\n",
    "class Lyric:\n",
    "    def __init__(self, text, duration):\n",
    "        self.text = text\n",
    "        self.duration = duration"
   ]
  },
  {
   "cell_type": "code",
   "execution_count": null,
   "metadata": {},
   "outputs": [],
   "source": [
    "from pitcher import *"
   ]
  },
  {
   "cell_type": "markdown",
   "metadata": {},
   "source": [
    "## Set Time and Key Signatures and Tempo"
   ]
  },
  {
   "cell_type": "code",
   "execution_count": 40,
   "metadata": {},
   "outputs": [],
   "source": [
    "doremi = Piece(\n",
    "    tempo=110,\n",
    "    time=Time.COMMON_TIME,\n",
    "    key=Key.C_MAJOR\n",
    ")"
   ]
  },
  {
   "cell_type": "markdown",
   "metadata": {},
   "source": [
    "## Setup staves and voices"
   ]
  },
  {
   "cell_type": "code",
   "execution_count": 41,
   "metadata": {},
   "outputs": [],
   "source": [
    "# Create a treble staff\n",
    "main_staff = Staff.Treble()\n",
    "\n",
    "# Add a piano to the treble staff\n",
    "main_staff.add_voice(Voice.PIANO)\n",
    "\n",
    "# Add new staff to the main piece\n",
    "doremi.add_staff(main_staff)"
   ]
  },
  {
   "cell_type": "markdown",
   "metadata": {},
   "source": [
    "## Insert notes"
   ]
  },
  {
   "cell_type": "code",
   "execution_count": 42,
   "metadata": {},
   "outputs": [
    {
     "data": {
      "image/png": "[encoded data removed]",
      "text/plain": [
       "<IPython.core.display.Image object>"
      ]
     },
     "metadata": {},
     "output_type": "display_data"
    }
   ],
   "source": [
    "# Get the piano voice we just created\n",
    "melody = main_staff.voices[0]\n",
    "\n",
    "# Create first 2 measures of Do Re Mi\n",
    "line = [Note(Do, 1.5), Note(Re, 1/2), Note(Mi, 1.5), Note(Re, 1/2), Note(Mi, 1), Note(Re, 1), Note(Mi, 2)]\n",
    "\n",
    "# Add it to the piano voice\n",
    "melody.extend(line)\n",
    "\n",
    "# Display an image of our piece\n",
    "doremi.show()"
   ]
  },
  {
   "cell_type": "markdown",
   "metadata": {},
   "source": [
    "## Add lyrics"
   ]
  },
  {
   "cell_type": "code",
   "execution_count": 43,
   "metadata": {
    "scrolled": true
   },
   "outputs": [
    {
     "data": {
      "image/png": "[encoded data removed]",
      "text/plain": [
       "<IPython.core.display.Image object>"
      ]
     },
     "metadata": {},
     "output_type": "display_data"
    }
   ],
   "source": [
    "# Create a string for our lyrics with their durations\n",
    "lyric_text =       'Doe  a    deer a    fe male deer'\n",
    "lyric_durations =  [1.5, 1/2, 1.5, 1/2, 1, 1,   2]\n",
    "\n",
    "# Zip values into a list of Lyric objects\n",
    "lyrics = [Lyric(txt, dur) for (txt,dur) in zip(lyric_text.split(), lyric_durations)]\n",
    "\n",
    "# Add the lyrics to the main piece\n",
    "doremi.lyrics.extend(lyrics)\n",
    "\n",
    "doremi.show()"
   ]
  },
  {
   "cell_type": "markdown",
   "metadata": {},
   "source": [
    "## Demo"
   ]
  },
  {
   "cell_type": "code",
   "execution_count": 44,
   "metadata": {
    "scrolled": true
   },
   "outputs": [
    {
     "data": {
      "image/png": "[encoded data removed]",
      "text/plain": [
       "<IPython.core.display.Image object>"
      ]
     },
     "metadata": {},
     "output_type": "display_data"
    },
    {
     "data": {
      "text/html": [
       "\n",
       "                <div id='midiPlayerDiv906'></div>\n",
       "                <link rel=\"stylesheet\" href=\"//cuthbertLab.github.io/music21j/css/m21.css\"\n",
       "                    type=\"text/css\" />\n",
       "                <script>\n",
       "                require.config({\n",
       "                    paths: {'music21': '//cuthbertLab.github.io/music21j/src/music21'}\n",
       "                });\n",
       "                require(['music21'], function() {\n",
       "                               mp = new music21.miditools.MidiPlayer();\n",
       "                               mp.addPlayer('#midiPlayerDiv906');\n",
       "                               mp.base64Load('data:audio/midi;base64,TVRoZAAAAAYAAQABBABNVHJrAAAAVAD/AwAA4ABAAP9YBAMCGAgAkDxaiACAPAAAkD5ahACAPgAAkEFahACAQQAAkENaggCAQwAAkEdaggCARwAAkENaggCAQwAAkEJaggCAQgCIAP8vAA==');\n",
       "                        });\n",
       "                </script>"
      ],
      "text/plain": [
       "<IPython.core.display.HTML object>"
      ]
     },
     "metadata": {},
     "output_type": "display_data"
    }
   ],
   "source": [
    "doremi.show()\n",
    "doremi.play()"
   ]
  },
  {
   "cell_type": "markdown",
   "metadata": {},
   "source": [
    "## Export as PDF"
   ]
  },
  {
   "cell_type": "code",
   "execution_count": null,
   "metadata": {},
   "outputs": [],
   "source": [
    "doremi.save(filename='DoReMi.pdf')\n"
   ]
  }
 ],
 "metadata": {
  "kernelspec": {
   "display_name": "Python 3",
   "language": "python",
   "name": "python3"
  },
  "language_info": {
   "codemirror_mode": {
    "name": "ipython",
    "version": 3
   },
   "file_extension": ".py",
   "mimetype": "text/x-python",
   "name": "python",
   "nbconvert_exporter": "python",
   "pygments_lexer": "ipython3",
   "version": "3.8.2"
  }
 },
 "nbformat": 4,
 "nbformat_minor": 4
}
